{
  "cells": [
    {
      "metadata": {
        "_uuid": "5629a4cfda6cfbc07d5b95893d484591d2bca01f"
      },
      "cell_type": "markdown",
      "source": "**The making of Python-based recommender system based on the iMdb formula for rating movies.**"
    },
    {
      "metadata": {
        "_cell_guid": "b1076dfc-b9ad-4769-8c92-a6c4dae69d19",
        "_uuid": "8f2839f25d086af736a60e9eeb907d3b93b6e0e5",
        "trusted": true
      },
      "cell_type": "code",
      "source": "# This Python 3 environment comes with many helpful analytics libraries installed\n# It is defined by the kaggle/python docker image: https://github.com/kaggle/docker-python\n# For example, here's several helpful packages to load in \n\nimport numpy as np # linear algebra\nimport pandas as pd # data processing, CSV file I/O (e.g. pd.read_csv)\n\n# Input data files are available in the \"../input/\" directory.\n# For example, running this (by clicking run or pressing Shift+Enter) will list the files in the input directory\n\nimport os\nprint(os.listdir(\"../input\"))\n\n# Any results you write to the current directory are saved as output.",
      "execution_count": 1,
      "outputs": [
        {
          "name": "stdout",
          "output_type": "stream",
          "text": "['links_small.csv', 'credits.csv', 'links.csv', 'movies_metadata.csv', 'keywords.csv', 'ratings_small.csv', 'ratings.csv']\n"
        }
      ]
    },
    {
      "metadata": {
        "_cell_guid": "79c7e3d0-c299-4dcb-8224-4455121ee9b0",
        "_uuid": "d629ff2d2480ee46fbb7e2d37f6b5fab8052498a",
        "trusted": true
      },
      "cell_type": "code",
      "source": "df = pd.read_csv(\"../input/movies_metadata.csv\")\ndf.head()",
      "execution_count": 2,
      "outputs": [
        {
          "name": "stderr",
          "output_type": "stream",
          "text": "/opt/conda/lib/python3.6/site-packages/IPython/core/interactiveshell.py:2698: DtypeWarning: Columns (10) have mixed types. Specify dtype option on import or set low_memory=False.\n  interactivity=interactivity, compiler=compiler, result=result)\n"
        },
        {
          "data": {
            "text/html": "<div>\n<style scoped>\n    .dataframe tbody tr th:only-of-type {\n        vertical-align: middle;\n    }\n\n    .dataframe tbody tr th {\n        vertical-align: top;\n    }\n\n    .dataframe thead th {\n        text-align: right;\n    }\n</style>\n<table border=\"1\" class=\"dataframe\">\n  <thead>\n    <tr style=\"text-align: right;\">\n      <th></th>\n      <th>adult</th>\n      <th>belongs_to_collection</th>\n      <th>budget</th>\n      <th>genres</th>\n      <th>homepage</th>\n      <th>id</th>\n      <th>imdb_id</th>\n      <th>original_language</th>\n      <th>original_title</th>\n      <th>overview</th>\n      <th>...</th>\n      <th>release_date</th>\n      <th>revenue</th>\n      <th>runtime</th>\n      <th>spoken_languages</th>\n      <th>status</th>\n      <th>tagline</th>\n      <th>title</th>\n      <th>video</th>\n      <th>vote_average</th>\n      <th>vote_count</th>\n    </tr>\n  </thead>\n  <tbody>\n    <tr>\n      <th>0</th>\n      <td>False</td>\n      <td>{'id': 10194, 'name': 'Toy Story Collection', ...</td>\n      <td>30000000</td>\n      <td>[{'id': 16, 'name': 'Animation'}, {'id': 35, '...</td>\n      <td>http://toystory.disney.com/toy-story</td>\n      <td>862</td>\n      <td>tt0114709</td>\n      <td>en</td>\n      <td>Toy Story</td>\n      <td>Led by Woody, Andy's toys live happily in his ...</td>\n      <td>...</td>\n      <td>1995-10-30</td>\n      <td>373554033.0</td>\n      <td>81.0</td>\n      <td>[{'iso_639_1': 'en', 'name': 'English'}]</td>\n      <td>Released</td>\n      <td>NaN</td>\n      <td>Toy Story</td>\n      <td>False</td>\n      <td>7.7</td>\n      <td>5415.0</td>\n    </tr>\n    <tr>\n      <th>1</th>\n      <td>False</td>\n      <td>NaN</td>\n      <td>65000000</td>\n      <td>[{'id': 12, 'name': 'Adventure'}, {'id': 14, '...</td>\n      <td>NaN</td>\n      <td>8844</td>\n      <td>tt0113497</td>\n      <td>en</td>\n      <td>Jumanji</td>\n      <td>When siblings Judy and Peter discover an encha...</td>\n      <td>...</td>\n      <td>1995-12-15</td>\n      <td>262797249.0</td>\n      <td>104.0</td>\n      <td>[{'iso_639_1': 'en', 'name': 'English'}, {'iso...</td>\n      <td>Released</td>\n      <td>Roll the dice and unleash the excitement!</td>\n      <td>Jumanji</td>\n      <td>False</td>\n      <td>6.9</td>\n      <td>2413.0</td>\n    </tr>\n    <tr>\n      <th>2</th>\n      <td>False</td>\n      <td>{'id': 119050, 'name': 'Grumpy Old Men Collect...</td>\n      <td>0</td>\n      <td>[{'id': 10749, 'name': 'Romance'}, {'id': 35, ...</td>\n      <td>NaN</td>\n      <td>15602</td>\n      <td>tt0113228</td>\n      <td>en</td>\n      <td>Grumpier Old Men</td>\n      <td>A family wedding reignites the ancient feud be...</td>\n      <td>...</td>\n      <td>1995-12-22</td>\n      <td>0.0</td>\n      <td>101.0</td>\n      <td>[{'iso_639_1': 'en', 'name': 'English'}]</td>\n      <td>Released</td>\n      <td>Still Yelling. Still Fighting. Still Ready for...</td>\n      <td>Grumpier Old Men</td>\n      <td>False</td>\n      <td>6.5</td>\n      <td>92.0</td>\n    </tr>\n    <tr>\n      <th>3</th>\n      <td>False</td>\n      <td>NaN</td>\n      <td>16000000</td>\n      <td>[{'id': 35, 'name': 'Comedy'}, {'id': 18, 'nam...</td>\n      <td>NaN</td>\n      <td>31357</td>\n      <td>tt0114885</td>\n      <td>en</td>\n      <td>Waiting to Exhale</td>\n      <td>Cheated on, mistreated and stepped on, the wom...</td>\n      <td>...</td>\n      <td>1995-12-22</td>\n      <td>81452156.0</td>\n      <td>127.0</td>\n      <td>[{'iso_639_1': 'en', 'name': 'English'}]</td>\n      <td>Released</td>\n      <td>Friends are the people who let you be yourself...</td>\n      <td>Waiting to Exhale</td>\n      <td>False</td>\n      <td>6.1</td>\n      <td>34.0</td>\n    </tr>\n    <tr>\n      <th>4</th>\n      <td>False</td>\n      <td>{'id': 96871, 'name': 'Father of the Bride Col...</td>\n      <td>0</td>\n      <td>[{'id': 35, 'name': 'Comedy'}]</td>\n      <td>NaN</td>\n      <td>11862</td>\n      <td>tt0113041</td>\n      <td>en</td>\n      <td>Father of the Bride Part II</td>\n      <td>Just when George Banks has recovered from his ...</td>\n      <td>...</td>\n      <td>1995-02-10</td>\n      <td>76578911.0</td>\n      <td>106.0</td>\n      <td>[{'iso_639_1': 'en', 'name': 'English'}]</td>\n      <td>Released</td>\n      <td>Just When His World Is Back To Normal... He's ...</td>\n      <td>Father of the Bride Part II</td>\n      <td>False</td>\n      <td>5.7</td>\n      <td>173.0</td>\n    </tr>\n  </tbody>\n</table>\n<p>5 rows × 24 columns</p>\n</div>",
            "text/plain": "   adult                              belongs_to_collection    budget  \\\n0  False  {'id': 10194, 'name': 'Toy Story Collection', ...  30000000   \n1  False                                                NaN  65000000   \n2  False  {'id': 119050, 'name': 'Grumpy Old Men Collect...         0   \n3  False                                                NaN  16000000   \n4  False  {'id': 96871, 'name': 'Father of the Bride Col...         0   \n\n                                              genres  \\\n0  [{'id': 16, 'name': 'Animation'}, {'id': 35, '...   \n1  [{'id': 12, 'name': 'Adventure'}, {'id': 14, '...   \n2  [{'id': 10749, 'name': 'Romance'}, {'id': 35, ...   \n3  [{'id': 35, 'name': 'Comedy'}, {'id': 18, 'nam...   \n4                     [{'id': 35, 'name': 'Comedy'}]   \n\n                               homepage     id    imdb_id original_language  \\\n0  http://toystory.disney.com/toy-story    862  tt0114709                en   \n1                                   NaN   8844  tt0113497                en   \n2                                   NaN  15602  tt0113228                en   \n3                                   NaN  31357  tt0114885                en   \n4                                   NaN  11862  tt0113041                en   \n\n                original_title  \\\n0                    Toy Story   \n1                      Jumanji   \n2             Grumpier Old Men   \n3            Waiting to Exhale   \n4  Father of the Bride Part II   \n\n                                            overview    ...     release_date  \\\n0  Led by Woody, Andy's toys live happily in his ...    ...       1995-10-30   \n1  When siblings Judy and Peter discover an encha...    ...       1995-12-15   \n2  A family wedding reignites the ancient feud be...    ...       1995-12-22   \n3  Cheated on, mistreated and stepped on, the wom...    ...       1995-12-22   \n4  Just when George Banks has recovered from his ...    ...       1995-02-10   \n\n       revenue runtime                                   spoken_languages  \\\n0  373554033.0    81.0           [{'iso_639_1': 'en', 'name': 'English'}]   \n1  262797249.0   104.0  [{'iso_639_1': 'en', 'name': 'English'}, {'iso...   \n2          0.0   101.0           [{'iso_639_1': 'en', 'name': 'English'}]   \n3   81452156.0   127.0           [{'iso_639_1': 'en', 'name': 'English'}]   \n4   76578911.0   106.0           [{'iso_639_1': 'en', 'name': 'English'}]   \n\n     status                                            tagline  \\\n0  Released                                                NaN   \n1  Released          Roll the dice and unleash the excitement!   \n2  Released  Still Yelling. Still Fighting. Still Ready for...   \n3  Released  Friends are the people who let you be yourself...   \n4  Released  Just When His World Is Back To Normal... He's ...   \n\n                         title  video vote_average vote_count  \n0                    Toy Story  False          7.7     5415.0  \n1                      Jumanji  False          6.9     2413.0  \n2             Grumpier Old Men  False          6.5       92.0  \n3            Waiting to Exhale  False          6.1       34.0  \n4  Father of the Bride Part II  False          5.7      173.0  \n\n[5 rows x 24 columns]"
          },
          "execution_count": 2,
          "metadata": {},
          "output_type": "execute_result"
        }
      ]
    },
    {
      "metadata": {
        "_cell_guid": "9e5fb5be-df66-4383-8f63-5711911dd302",
        "_uuid": "a000d7014967b58a569614aa28325158bdffb6a8",
        "trusted": true
      },
      "cell_type": "code",
      "source": "df.iloc[0]",
      "execution_count": 5,
      "outputs": [
        {
          "data": {
            "text/plain": "adult                                                                False\nbelongs_to_collection    {'id': 10194, 'name': 'Toy Story Collection', ...\nbudget                                                            30000000\ngenres                   [{'id': 16, 'name': 'Animation'}, {'id': 35, '...\nhomepage                              http://toystory.disney.com/toy-story\nid                                                                     862\nimdb_id                                                          tt0114709\noriginal_language                                                       en\noriginal_title                                                   Toy Story\noverview                 Led by Woody, Andy's toys live happily in his ...\npopularity                                                         21.9469\nposter_path                               /rhIRbceoE9lR4veEXuwCC2wARtG.jpg\nproduction_companies        [{'name': 'Pixar Animation Studios', 'id': 3}]\nproduction_countries     [{'iso_3166_1': 'US', 'name': 'United States o...\nrelease_date                                                    1995-10-30\nrevenue                                                        3.73554e+08\nruntime                                                                 81\nspoken_languages                  [{'iso_639_1': 'en', 'name': 'English'}]\nstatus                                                            Released\ntagline                                                                NaN\ntitle                                                            Toy Story\nvideo                                                                False\nvote_average                                                           7.7\nvote_count                                                            5415\nName: 0, dtype: object"
          },
          "execution_count": 5,
          "metadata": {},
          "output_type": "execute_result"
        }
      ]
    },
    {
      "metadata": {
        "_cell_guid": "91835513-8568-4ec1-9e8c-d0dbea10f2bb",
        "_uuid": "2860c9a82f1f8e717c4a3d37363109733f1d1bff",
        "collapsed": true,
        "trusted": true
      },
      "cell_type": "code",
      "source": "m = df['vote_count'].quantile(0.9) # min number of votes to qualify as recommended movie.\nC = df['vote_average'].mean()      # average voting in iMdb",
      "execution_count": 6,
      "outputs": []
    },
    {
      "metadata": {
        "_cell_guid": "71b3d642-38b2-4fa7-86ef-0bf5a396f344",
        "_uuid": "cd7f516ae6522793a489f52640e287823e2b658b",
        "trusted": true
      },
      "cell_type": "code",
      "source": "print(m) , print(C)",
      "execution_count": 7,
      "outputs": [
        {
          "name": "stdout",
          "output_type": "stream",
          "text": "160.0\n5.618207215133889\n"
        },
        {
          "data": {
            "text/plain": "(None, None)"
          },
          "execution_count": 7,
          "metadata": {},
          "output_type": "execute_result"
        }
      ]
    },
    {
      "metadata": {
        "_uuid": "1b5e1e66b7767f2cd26958e9c76a023b229006e6"
      },
      "cell_type": "markdown",
      "source": "*Applying the iMdb formula to rate the movies or the recommendation value based on popular votes.*"
    },
    {
      "metadata": {
        "_cell_guid": "979e1218-68be-40fc-9b51-b9300f17a585",
        "_uuid": "029e57dfc288332dd0a8ac74d20749ec57208c9a",
        "collapsed": true,
        "trusted": true
      },
      "cell_type": "code",
      "source": "def weighted(x , m=m , C=C):\n    v = x['vote_count']\n    R = x['vote_average']\n    \n    return (v/(v+m))*R + (m/(v+m))*C\n",
      "execution_count": 8,
      "outputs": []
    },
    {
      "metadata": {
        "_cell_guid": "7c546059-a4b7-4b73-9c1d-70a2e1b55f25",
        "_uuid": "bb6898ba3b14013cb0f2e8b496b336f7174070da",
        "collapsed": true,
        "trusted": true
      },
      "cell_type": "code",
      "source": "apply_filter = df.loc[df['vote_count'] >=m]",
      "execution_count": 9,
      "outputs": []
    },
    {
      "metadata": {
        "_cell_guid": "36cad936-658a-4e88-a66c-de4c60a2b37b",
        "_uuid": "ed0b3ca8d27b206483d819973d9f7c3b08e1b0fc",
        "trusted": true
      },
      "cell_type": "code",
      "source": "df.shape , apply_filter.shape",
      "execution_count": 11,
      "outputs": [
        {
          "data": {
            "text/plain": "((45466, 24), (4555, 24))"
          },
          "execution_count": 11,
          "metadata": {},
          "output_type": "execute_result"
        }
      ]
    },
    {
      "metadata": {
        "trusted": true,
        "_uuid": "a5f77bdf0e4937b23de4f33c868c4c680030c808"
      },
      "cell_type": "code",
      "source": "apply_filter['score'] = apply_filter.apply(weighted , axis=1)",
      "execution_count": 12,
      "outputs": [
        {
          "name": "stderr",
          "output_type": "stream",
          "text": "/opt/conda/lib/python3.6/site-packages/ipykernel_launcher.py:1: SettingWithCopyWarning: \nA value is trying to be set on a copy of a slice from a DataFrame.\nTry using .loc[row_indexer,col_indexer] = value instead\n\nSee the caveats in the documentation: http://pandas.pydata.org/pandas-docs/stable/indexing.html#indexing-view-versus-copy\n  \"\"\"Entry point for launching an IPython kernel.\n"
        }
      ]
    },
    {
      "metadata": {
        "collapsed": true,
        "trusted": true,
        "_uuid": "0247c0d23fb1828b3b7a17170aea8937125f421d"
      },
      "cell_type": "code",
      "source": "apply_filter = apply_filter.sort_values('score' , ascending=False)",
      "execution_count": 18,
      "outputs": []
    },
    {
      "metadata": {
        "trusted": true,
        "_uuid": "3993a1afff6b4e0dc2d749be290761e010b88dc7"
      },
      "cell_type": "code",
      "source": "apply_filter[['title' , 'vote_count' , 'vote_average' , 'score']].head()",
      "execution_count": 21,
      "outputs": [
        {
          "data": {
            "text/html": "<div>\n<style scoped>\n    .dataframe tbody tr th:only-of-type {\n        vertical-align: middle;\n    }\n\n    .dataframe tbody tr th {\n        vertical-align: top;\n    }\n\n    .dataframe thead th {\n        text-align: right;\n    }\n</style>\n<table border=\"1\" class=\"dataframe\">\n  <thead>\n    <tr style=\"text-align: right;\">\n      <th></th>\n      <th>title</th>\n      <th>vote_count</th>\n      <th>vote_average</th>\n      <th>score</th>\n    </tr>\n  </thead>\n  <tbody>\n    <tr>\n      <th>314</th>\n      <td>The Shawshank Redemption</td>\n      <td>8358.0</td>\n      <td>8.5</td>\n      <td>8.445869</td>\n    </tr>\n    <tr>\n      <th>834</th>\n      <td>The Godfather</td>\n      <td>6024.0</td>\n      <td>8.5</td>\n      <td>8.425439</td>\n    </tr>\n    <tr>\n      <th>10309</th>\n      <td>Dilwale Dulhania Le Jayenge</td>\n      <td>661.0</td>\n      <td>9.1</td>\n      <td>8.421453</td>\n    </tr>\n    <tr>\n      <th>12481</th>\n      <td>The Dark Knight</td>\n      <td>12269.0</td>\n      <td>8.3</td>\n      <td>8.265477</td>\n    </tr>\n    <tr>\n      <th>2843</th>\n      <td>Fight Club</td>\n      <td>9678.0</td>\n      <td>8.3</td>\n      <td>8.256385</td>\n    </tr>\n  </tbody>\n</table>\n</div>",
            "text/plain": "                             title  vote_count  vote_average     score\n314       The Shawshank Redemption      8358.0           8.5  8.445869\n834                  The Godfather      6024.0           8.5  8.425439\n10309  Dilwale Dulhania Le Jayenge       661.0           9.1  8.421453\n12481              The Dark Knight     12269.0           8.3  8.265477\n2843                    Fight Club      9678.0           8.3  8.256385"
          },
          "execution_count": 21,
          "metadata": {},
          "output_type": "execute_result"
        }
      ]
    },
    {
      "metadata": {
        "trusted": true,
        "_uuid": "31e0b58af900f2a2abe5dd823a6b29c6dd94656e"
      },
      "cell_type": "code",
      "source": "apply_filter[['title' , 'vote_count' , 'vote_average' , 'score']].tail()",
      "execution_count": 22,
      "outputs": [
        {
          "data": {
            "text/html": "<div>\n<style scoped>\n    .dataframe tbody tr th:only-of-type {\n        vertical-align: middle;\n    }\n\n    .dataframe tbody tr th {\n        vertical-align: top;\n    }\n\n    .dataframe thead th {\n        text-align: right;\n    }\n</style>\n<table border=\"1\" class=\"dataframe\">\n  <thead>\n    <tr style=\"text-align: right;\">\n      <th></th>\n      <th>title</th>\n      <th>vote_count</th>\n      <th>vote_average</th>\n      <th>score</th>\n    </tr>\n  </thead>\n  <tbody>\n    <tr>\n      <th>9710</th>\n      <td>Son of the Mask</td>\n      <td>346.0</td>\n      <td>3.6</td>\n      <td>4.238168</td>\n    </tr>\n    <tr>\n      <th>12911</th>\n      <td>Disaster Movie</td>\n      <td>250.0</td>\n      <td>3.1</td>\n      <td>4.082715</td>\n    </tr>\n    <tr>\n      <th>3471</th>\n      <td>Battlefield Earth</td>\n      <td>259.0</td>\n      <td>3.0</td>\n      <td>3.999793</td>\n    </tr>\n    <tr>\n      <th>11557</th>\n      <td>Epic Movie</td>\n      <td>334.0</td>\n      <td>3.2</td>\n      <td>3.983225</td>\n    </tr>\n    <tr>\n      <th>13566</th>\n      <td>Dragonball Evolution</td>\n      <td>475.0</td>\n      <td>2.9</td>\n      <td>3.584903</td>\n    </tr>\n  </tbody>\n</table>\n</div>",
            "text/plain": "                      title  vote_count  vote_average     score\n9710        Son of the Mask       346.0           3.6  4.238168\n12911        Disaster Movie       250.0           3.1  4.082715\n3471      Battlefield Earth       259.0           3.0  3.999793\n11557            Epic Movie       334.0           3.2  3.983225\n13566  Dragonball Evolution       475.0           2.9  3.584903"
          },
          "execution_count": 22,
          "metadata": {},
          "output_type": "execute_result"
        }
      ]
    },
    {
      "metadata": {
        "_uuid": "b3d3e8e73d6421fd7e9479daeea39ebf8f19780a"
      },
      "cell_type": "markdown",
      "source": "**So that was the popularity based recommender system fully made with the help of Python.**"
    },
    {
      "metadata": {
        "collapsed": true,
        "trusted": true,
        "_uuid": "b8687728d9546129ccc9b1ebcde4f4c104bbc854"
      },
      "cell_type": "code",
      "source": "",
      "execution_count": null,
      "outputs": []
    }
  ],
  "metadata": {
    "kernelspec": {
      "display_name": "Python 3",
      "language": "python",
      "name": "python3"
    },
    "language_info": {
      "codemirror_mode": {
        "name": "ipython",
        "version": 3
      },
      "file_extension": ".py",
      "mimetype": "text/x-python",
      "name": "python",
      "nbconvert_exporter": "python",
      "pygments_lexer": "ipython3",
      "version": "3.6.4"
    }
  },
  "nbformat": 4,
  "nbformat_minor": 1
}